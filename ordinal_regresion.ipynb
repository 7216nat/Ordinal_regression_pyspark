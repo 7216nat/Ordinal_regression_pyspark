{
 "cells": [
  {
   "attachments": {},
   "cell_type": "markdown",
   "metadata": {},
   "source": [
    "# Regresión Lineal Ordinal\n",
    "\n",
    "### Xukai Chen & Julio Menéndez Sánchez\n",
    "### Curso: TDM - 2022/2023\n",
    "\n"
   ]
  },
  {
   "attachments": {},
   "cell_type": "markdown",
   "metadata": {},
   "source": [
    "Para  poder entender el concepto esta regresión y el problema a resolver, debemos recordar y recurrir a los conceptos basicos del data science, las variables.\n",
    "\n",
    "Como ya sabemos, tanto regresión como clasificación, son un modelo de estimacion que tienen como objetivo predecir una relacion de dependencia entre una variable independiente  *Y* y una o varias variables dependientes  *X*.\n",
    "\n",
    "<img src=\"./images/regr_cfc.png\" alt=\"regre_cfc.png\" width=\"600\"/>\n",
    "\n",
    "#### Los ejemplos más destacados de ambos tipos de algoritmos \n",
    "* Regresión lineal: la variable independiente a predecir es del tipo **continuo**\n",
    "  * El peso y la altura de una persona\n",
    "  * salario de una persona\n",
    "  * distancia de un recorrido \n",
    "  * ...\n",
    "  \n",
    "* Regresion logística: mientras este predice variables **nominales**\n",
    "  * Frutas y verduras\n",
    "  * region\n",
    "  * grupo sanguineo\n",
    "  * ...\n",
    "\n",
    "Es decir tanto el algoritmo de regresión como el de clasificación surgieron para adecuar a las caracteristas de estos tipos de variable, para poder predecirlos con alta precision y exhaustividad."
   ]
  },
  {
   "attachments": {},
   "cell_type": "markdown",
   "metadata": {},
   "source": [
    "Sin embargo, existe todavía un tipo de variable que es muy comun, se trata de una variable **ordinal**, por ejemplo, el nivel de satifaccion de las encuestas, la nota descriptica de la evaluacion del trimestre, puestos conseguidos en los deportes competitivos...\n",
    "\n",
    "Como se puede apreciar es como una mezcla de los dos tipos de variables mencionados anteriormente, donde no puede tomar cualquier valor entre dos valores consecutivos pero mantiene cierta relacion de continuidad, el motivo por el cual tampoco puede considerarse como variable nominal, ya que los valores no son independientes entre ellos, es decir, es erronea la prediccion de una variable ordinal si tuviera que elegir entre *Muy satisfecho* y *Muy insatisfecho*.\n",
    "\n",
    "<img src=\"./images/satisfaccion.jpg\" alt=\"satisfaccion.jpg\" width=\"1000\"/>"
   ]
  },
  {
   "attachments": {},
   "cell_type": "markdown",
   "metadata": {},
   "source": [
    "##### A continuación vamos a ver varios metodos regresion y clasificacion los cuales podemos obtener una aproximacion a la solucion:"
   ]
  },
  {
   "attachments": {},
   "cell_type": "markdown",
   "metadata": {},
   "source": [
    "## Inicialización\n",
    "\n",
    "Inicilización de pyspark"
   ]
  },
  {
   "cell_type": "code",
   "execution_count": 1,
   "metadata": {},
   "outputs": [
    {
     "name": "stdout",
     "output_type": "stream",
     "text": [
      "23/01/17 19:30:22 WARN Utils: Your hostname, nat7216-dell resolves to a loopback address: 127.0.1.1; using 10.8.7.52 instead (on interface wlp3s0)\n",
      "23/01/17 19:30:22 WARN Utils: Set SPARK_LOCAL_IP if you need to bind to another address\n"
     ]
    },
    {
     "name": "stderr",
     "output_type": "stream",
     "text": [
      "Setting default log level to \"WARN\".\n",
      "To adjust logging level use sc.setLogLevel(newLevel). For SparkR, use setLogLevel(newLevel).\n"
     ]
    },
    {
     "name": "stdout",
     "output_type": "stream",
     "text": [
      "23/01/17 19:30:25 WARN NativeCodeLoader: Unable to load native-hadoop library for your platform... using builtin-java classes where applicable\n",
      "23/01/17 19:30:28 WARN Utils: Service 'SparkUI' could not bind on port 4040. Attempting port 4041.\n"
     ]
    }
   ],
   "source": [
    "# primero lo descargamos en local\n",
    "import pyspark                                 # only run after findspark.init()\n",
    "from pyspark.sql import SparkSession\n",
    "import urllib\n",
    "spark = SparkSession.builder.getOrCreate()\n",
    "sc = spark.sparkContext\n",
    "sc.setLogLevel(\"ERROR\")\n",
    "\n",
    "import warnings\n",
    "warnings.simplefilter(action='ignore', category=FutureWarning)"
   ]
  },
  {
   "attachments": {},
   "cell_type": "markdown",
   "metadata": {},
   "source": [
    "## Funciones útiles \n",
    "\n",
    "A continuación se proporcionan algunas de las funciones que pueden ser útiles, por ejemplo, las funciones para la evaluación de los modelos creados."
   ]
  },
  {
   "cell_type": "code",
   "execution_count": 19,
   "metadata": {},
   "outputs": [],
   "source": [
    "from pyspark.ml.evaluation import MulticlassClassificationEvaluator\n",
    "from pyspark.mllib.evaluation import MulticlassMetrics\n",
    "from sklearn.metrics import  ConfusionMatrixDisplay\n",
    "import matplotlib.pyplot as plt\n",
    "%matplotlib inline\n",
    "import pyspark.sql.functions as f \n",
    "import numpy as np\n",
    "\n",
    "\n",
    "def create_spark_dataframe(file):\n",
    "    \"\"\"crea dataframe spark a partir de un fichero\n",
    "\n",
    "    Args:\n",
    "        file (path): ruta del fichero\n",
    "    \"\"\"\n",
    "    df = spark.read.format(\"com.databricks.spark.csv\").options(header='true', inferschema='true').load(file)\n",
    "    return df\n",
    "\n",
    "def accuracy(predictions, label, prediction=\"prediction\"):\n",
    "    \"\"\"calcular la exhaustitud de la prediccion\n",
    "\n",
    "    Args:\n",
    "        predictions (): predicciones obtenidas\n",
    "        label (col): columna de los valores reales \n",
    "        prediction (str, optional): columna de la prediccion. Defaults to \"prediction\".\n",
    "    \"\"\"\n",
    "    evaluator = MulticlassClassificationEvaluator(labelCol=label, predictionCol = prediction, metricName=\"accuracy\")\n",
    "    accuracy = evaluator.evaluate(predictions)\n",
    "    print(\"Classification accuracy = %g\" % (accuracy))\n",
    "\n",
    "def f1(predictions, label, prediction=\"prediction\"):\n",
    "    \"\"\"calcular la F-Measure de la prediccion\n",
    "\n",
    "    Args:\n",
    "        predictions (_type_):  predicciones obtenidas\n",
    "        label (col): columna de los valores reales \n",
    "        prediction (str, optional): columna de la prediccion. Defaults to \"prediction\".\n",
    "    \"\"\"\n",
    "    evaluator = MulticlassClassificationEvaluator(labelCol=label, predictionCol=prediction, metricName=\"f1\")\n",
    "    f1 = evaluator.evaluate(predictions)\n",
    "    print(\"Classification f1 score= \" + str(f1))\n",
    "\n",
    "def calcular_matriz_confusion(predictions,label):\n",
    "    \"\"\"Mostrar la matriz de confusion\n",
    "\n",
    "    Args:\n",
    "        predictions (_type_):  predicciones obtenidas\n",
    "        label (col): columna de los valores reales \n",
    "    \"\"\"\n",
    "    preds_and_labels = predictions.select(['prediction', label])\n",
    "    # hay que convertir las columnas prediction label en una tupla\n",
    "    metrics = MulticlassMetrics(preds_and_labels.rdd.map(tuple))\n",
    "    cm = metrics.confusionMatrix()\n",
    "    \n",
    "    cm = cm.toArray().astype(np.int64)\n",
    "    print(cm)\n",
    "    fig, ax = plt.subplots(figsize=(4,4))\n",
    "    ConfusionMatrixDisplay(cm, display_labels=[\"0.0\",\"1.0\", \"2.0\"]).plot(ax =ax)\n"
   ]
  },
  {
   "cell_type": "markdown",
   "metadata": {},
   "source": [
    "## Carga de datos"
   ]
  },
  {
   "cell_type": "markdown",
   "metadata": {},
   "source": [
    "\n",
    "\n",
    "A continuación se describe cada una de las columnas del dataframe:\n",
    "\n",
    "* `Sales`: Ventas unitarias de cierto producto (en miles) en cada ubicación\n",
    "* `CompPrice`: Precio cobrado en cada ubicación\n",
    "* `Income`:Nivel de ingresos \n",
    "* `Advertising`:  Presupuesto de publicidad local para la empresa en cada ubicación\n",
    "* `Population`: población en la región\n",
    "* `Price`: Costes\n",
    "* `Age`: Edad media de la población\n",
    "* `Education`: Nivel de educación en cada lugar\n",
    "* `Urban`: Un factor con niveles ``No`` y ``Sí`` para indicar si la tienda\n",
    "   está en una zona urbana o rural\n",
    "* `ShelveLoc`: Un factor con niveles ``Malo``, ``Bueno`` y ``Medio`` que indica el\n",
    "   calidad de la ubicación\n",
    "* `US`: Un factor con niveles ``No`` y ``Sí`` para indicar si la tienda\n",
    "   está en los Estados Unidos o no\n",
    "\n"
   ]
  },
  {
   "cell_type": "code",
   "execution_count": 3,
   "metadata": {},
   "outputs": [
    {
     "name": "stderr",
     "output_type": "stream",
     "text": [
      "                                                                                \r"
     ]
    },
    {
     "name": "stdout",
     "output_type": "stream",
     "text": [
      "+-----+---------+------+-----------+----------+-----+---+---------+-----+---------+---+\n",
      "|Sales|CompPrice|Income|Advertising|Population|Price|Age|Education|Urban|ShelveLoc| US|\n",
      "+-----+---------+------+-----------+----------+-----+---+---------+-----+---------+---+\n",
      "|  9.5|      138|    73|         11|       276|  120| 42|       17|  Yes|      Bad|Yes|\n",
      "|11.22|      111|    48|         16|       260|   83| 65|       10|  Yes|     Good|Yes|\n",
      "|10.06|      113|    35|         10|       269|   80| 59|       12|  Yes|   Medium|Yes|\n",
      "|  7.4|      117|   100|          4|       466|   97| 55|       14|  Yes|   Medium|Yes|\n",
      "| 4.15|      141|    64|          3|       340|  128| 38|       13|  Yes|      Bad| No|\n",
      "+-----+---------+------+-----------+----------+-----+---+---------+-----+---------+---+\n",
      "only showing top 5 rows\n",
      "\n"
     ]
    }
   ],
   "source": [
    "file = \"./carkids.csv\"\n",
    "# ahora llamamos a la función\n",
    "df = create_spark_dataframe(file)\n",
    "df.show(5)"
   ]
  },
  {
   "attachments": {},
   "cell_type": "markdown",
   "metadata": {},
   "source": [
    "## Procesado de datos"
   ]
  },
  {
   "attachments": {},
   "cell_type": "markdown",
   "metadata": {},
   "source": [
    "Hay que realizar un pre-procesado de las variables ordinales y nominales:\n",
    "\n",
    "* `Sales`       => `volumen_ventas`: se divide en tres intervalos considerando como `alto`, `medio`, `bajo`\n",
    "* `ShelveLoc`   => `ShelveLocIndex`: convertir ``Malo``, ``Bueno`` y ``Medio`` en numeros consecutivos enteros\n",
    "* `Urban`       => `UrbanIndex`: procesado de variable nominal `0` y `1`\n",
    "* `US`          => `USIndex`: procesado de variable nominal `0` y `1`"
   ]
  },
  {
   "cell_type": "code",
   "execution_count": 8,
   "metadata": {},
   "outputs": [
    {
     "name": "stdout",
     "output_type": "stream",
     "text": [
      "+-----+---------+------+-----------+----------+-----+---+---------+-----+---------+---+--------------+--------------+\n",
      "|Sales|CompPrice|Income|Advertising|Population|Price|Age|Education|Urban|ShelveLoc| US|ShelveLocIndex|volumen_ventas|\n",
      "+-----+---------+------+-----------+----------+-----+---+---------+-----+---------+---+--------------+--------------+\n",
      "|  9.5|      138|    73|         11|       276|  120| 42|       17|  Yes|      Bad|Yes|           0.0|           2.0|\n",
      "|11.22|      111|    48|         16|       260|   83| 65|       10|  Yes|     Good|Yes|           2.0|           2.0|\n",
      "|10.06|      113|    35|         10|       269|   80| 59|       12|  Yes|   Medium|Yes|           1.0|           2.0|\n",
      "|  7.4|      117|   100|          4|       466|   97| 55|       14|  Yes|   Medium|Yes|           1.0|           1.0|\n",
      "| 4.15|      141|    64|          3|       340|  128| 38|       13|  Yes|      Bad| No|           0.0|           0.0|\n",
      "+-----+---------+------+-----------+----------+-----+---+---------+-----+---------+---+--------------+--------------+\n",
      "only showing top 5 rows\n",
      "\n",
      "+---------+------+-----------+----------+-----+---+---------+--------------+--------------+----------+-------+\n",
      "|CompPrice|Income|Advertising|Population|Price|Age|Education|ShelveLocIndex|volumen_ventas|UrbanIndex|USIndex|\n",
      "+---------+------+-----------+----------+-----+---+---------+--------------+--------------+----------+-------+\n",
      "|      138|    73|         11|       276|  120| 42|       17|           0.0|           2.0|       1.0|    1.0|\n",
      "|      111|    48|         16|       260|   83| 65|       10|           2.0|           2.0|       1.0|    1.0|\n",
      "|      113|    35|         10|       269|   80| 59|       12|           1.0|           2.0|       1.0|    1.0|\n",
      "|      117|   100|          4|       466|   97| 55|       14|           1.0|           1.0|       1.0|    1.0|\n",
      "|      141|    64|          3|       340|  128| 38|       13|           0.0|           0.0|       1.0|    0.0|\n",
      "|      124|   113|         13|       501|   72| 78|       16|           0.0|           2.0|       0.0|    1.0|\n",
      "|      115|   105|          0|        45|  108| 71|       15|           1.0|           1.0|       1.0|    0.0|\n",
      "|      136|    81|         15|       425|  120| 67|       10|           2.0|           2.0|       1.0|    1.0|\n",
      "|      132|   110|          0|       108|  124| 76|       10|           1.0|           1.0|       0.0|    0.0|\n",
      "|      132|   113|          0|       131|  124| 76|       17|           1.0|           0.0|       0.0|    1.0|\n",
      "|      121|    78|          9|       150|  100| 26|       10|           0.0|           2.0|       0.0|    1.0|\n",
      "|      117|    94|          4|       503|   94| 50|       13|           2.0|           2.0|       1.0|    1.0|\n",
      "|      122|    35|          2|       393|  136| 62|       18|           1.0|           0.0|       1.0|    0.0|\n",
      "|      115|    28|         11|        29|   86| 53|       18|           2.0|           2.0|       1.0|    1.0|\n",
      "|      107|   117|         11|       148|  118| 52|       18|           2.0|           2.0|       1.0|    1.0|\n",
      "|      149|    95|          5|       400|  144| 76|       18|           1.0|           1.0|       0.0|    0.0|\n",
      "|      118|    32|          0|       284|  110| 63|       13|           2.0|           1.0|       1.0|    0.0|\n",
      "|      147|    74|         13|       251|  131| 52|       10|           2.0|           2.0|       1.0|    1.0|\n",
      "|      110|   110|          0|       408|   68| 46|       17|           2.0|           2.0|       0.0|    1.0|\n",
      "|      129|    76|         16|        58|  121| 69|       12|           1.0|           1.0|       1.0|    1.0|\n",
      "+---------+------+-----------+----------+-----+---+---------+--------------+--------------+----------+-------+\n",
      "only showing top 20 rows\n",
      "\n"
     ]
    }
   ],
   "source": [
    "from pyspark.sql.functions import when\n",
    "# procesado de la variable ordinal\n",
    "_df = df.withColumn('ShelveLocIndex', when(df.ShelveLoc == 'Bad', 0.0).when(df.ShelveLoc == 'Medium', 1.0).otherwise(2.0))\n",
    "# arbitrariamente se divide el volumen de ventas en tres categorias\n",
    "_df = _df.withColumn('volumen_ventas', when(df.Sales<5.5, 0.0).when((df.Sales<9) & (df.Sales>=5.5), 1.0).otherwise(2.0))\n",
    "_df.show(5)\n",
    "\n",
    "# procesado de las variables nominales mediante StringIndexer\n",
    "from pyspark.ml.feature import StringIndexer\n",
    "indexer = StringIndexer(inputCol=\"Urban\", outputCol=\"UrbanIndex\")\n",
    "indexed_model = indexer.fit(_df)\n",
    "_df = indexed_model.transform(_df)\n",
    "indexer = StringIndexer(inputCol=\"US\", outputCol=\"USIndex\")\n",
    "indexed_model = indexer.fit(_df)\n",
    "_df = indexed_model.transform(_df)\n",
    "\n",
    "# descartar las columnas originales\n",
    "_df = _df.drop('Urban').drop('US').drop('Sales').drop('ShelveLoc')\n",
    "_df.show(20)"
   ]
  },
  {
   "cell_type": "code",
   "execution_count": 9,
   "metadata": {},
   "outputs": [
    {
     "name": "stdout",
     "output_type": "stream",
     "text": [
      "+---------+------+-----------+----------+-----+---+---------+--------------+--------------+----------+-------+--------------------+\n",
      "|CompPrice|Income|Advertising|Population|Price|Age|Education|ShelveLocIndex|volumen_ventas|UrbanIndex|USIndex|            features|\n",
      "+---------+------+-----------+----------+-----+---+---------+--------------+--------------+----------+-------+--------------------+\n",
      "|      138|    73|         11|       276|  120| 42|       17|           0.0|           2.0|       1.0|    1.0|[138.0,73.0,11.0,...|\n",
      "|      111|    48|         16|       260|   83| 65|       10|           2.0|           2.0|       1.0|    1.0|[111.0,48.0,16.0,...|\n",
      "|      113|    35|         10|       269|   80| 59|       12|           1.0|           2.0|       1.0|    1.0|[113.0,35.0,10.0,...|\n",
      "|      117|   100|          4|       466|   97| 55|       14|           1.0|           1.0|       1.0|    1.0|[117.0,100.0,4.0,...|\n",
      "|      141|    64|          3|       340|  128| 38|       13|           0.0|           0.0|       1.0|    0.0|[141.0,64.0,3.0,3...|\n",
      "+---------+------+-----------+----------+-----+---+---------+--------------+--------------+----------+-------+--------------------+\n",
      "only showing top 5 rows\n",
      "\n"
     ]
    }
   ],
   "source": [
    "from pyspark.ml.feature import VectorAssembler\n",
    "\n",
    "# crear una columna feature que consiste en una lista de todas las variables dependientes\n",
    "cols = _df.columns\n",
    "cols.remove('volumen_ventas')\n",
    "assembler = VectorAssembler(inputCols = cols, outputCol ='features')\n",
    "df_features = assembler.transform(_df)\n",
    "df_features.show(5)"
   ]
  },
  {
   "attachments": {},
   "cell_type": "markdown",
   "metadata": {},
   "source": [
    "### Train y Test\n",
    "\n",
    "División entre entrenamiento y test.\n",
    "* 70% de valores para entrenar \n",
    "* 30% para test. \n"
   ]
  },
  {
   "cell_type": "code",
   "execution_count": 10,
   "metadata": {},
   "outputs": [
    {
     "name": "stdout",
     "output_type": "stream",
     "text": [
      "+--------------+--------------------+\n",
      "|volumen_ventas|            features|\n",
      "+--------------+--------------------+\n",
      "|           2.0|[138.0,73.0,11.0,...|\n",
      "|           2.0|[111.0,48.0,16.0,...|\n",
      "|           2.0|[113.0,35.0,10.0,...|\n",
      "|           1.0|[117.0,100.0,4.0,...|\n",
      "|           0.0|[141.0,64.0,3.0,3...|\n",
      "+--------------+--------------------+\n",
      "only showing top 5 rows\n",
      "\n"
     ]
    }
   ],
   "source": [
    "# Sol:\n",
    "df_features = df_features.select(['volumen_ventas', 'features'])\n",
    "train, test = df_features.randomSplit([0.7, 0.3], seed = 1234)\n",
    "df_features.show(5)"
   ]
  },
  {
   "attachments": {},
   "cell_type": "markdown",
   "metadata": {},
   "source": [
    "## 1. Clasificacion mediante Regresion Logística"
   ]
  },
  {
   "attachments": {},
   "cell_type": "markdown",
   "metadata": {},
   "source": [
    "1. **Se utilizada la distribucion multinomial para clasificar**\n",
    "2. **Mediante un crossValidator se obtiene los mejores hiperparametros**\n",
    "3. **Se evalua cada modelo generado utilizando la metrica F-Measure**"
   ]
  },
  {
   "cell_type": "code",
   "execution_count": 11,
   "metadata": {},
   "outputs": [
    {
     "name": "stderr",
     "output_type": "stream",
     "text": [
      "                                                                                \r"
     ]
    },
    {
     "name": "stdout",
     "output_type": "stream",
     "text": [
      "LogisticRegression_9dcbb17e0d69__aggregationDepth :  2\n",
      "LogisticRegression_9dcbb17e0d69__elasticNetParam :  1.0\n",
      "LogisticRegression_9dcbb17e0d69__family :  multinomial\n",
      "LogisticRegression_9dcbb17e0d69__featuresCol :  features\n",
      "LogisticRegression_9dcbb17e0d69__fitIntercept :  True\n",
      "LogisticRegression_9dcbb17e0d69__labelCol :  volumen_ventas\n",
      "LogisticRegression_9dcbb17e0d69__maxBlockSizeInMB :  0.0\n",
      "LogisticRegression_9dcbb17e0d69__maxIter :  100\n",
      "LogisticRegression_9dcbb17e0d69__predictionCol :  prediction\n",
      "LogisticRegression_9dcbb17e0d69__probabilityCol :  probability\n",
      "LogisticRegression_9dcbb17e0d69__rawPredictionCol :  rawPrediction\n",
      "LogisticRegression_9dcbb17e0d69__regParam :  0.01\n",
      "LogisticRegression_9dcbb17e0d69__standardization :  True\n",
      "LogisticRegression_9dcbb17e0d69__threshold :  0.5\n",
      "LogisticRegression_9dcbb17e0d69__tol :  1e-06\n"
     ]
    }
   ],
   "source": [
    "from pyspark.ml.classification import LogisticRegression\n",
    "from pyspark.ml.tuning import ParamGridBuilder, CrossValidator\n",
    "\n",
    "# regresion logistica utilizando la distribucion multinomial\n",
    "mlr = LogisticRegression(labelCol=\"volumen_ventas\", family=\"multinomial\")\n",
    "\n",
    "# conjunto de combinaciones de parametros\n",
    "paramGrid_mlr = ParamGridBuilder().baseOn([mlr.labelCol, 'volumen_ventas'])\\\n",
    "             .baseOn([mlr.family, 'multinomial'])  \\\n",
    "             .addGrid(mlr.regParam, [0.01, 0.1, 0.5, 1.0, 2.0]) \\\n",
    "            .addGrid(mlr.elasticNetParam, [0.0, 0.5, 1.0]) \\\n",
    "             .build()\n",
    "\n",
    "# evaluador del modelo\n",
    "cvEvaluator= MulticlassClassificationEvaluator(metricName=\"f1\", labelCol='volumen_ventas')\n",
    "\n",
    "# cross validato para obtener la mejor configuracion\n",
    "cv_mlr = CrossValidator(estimator=mlr, estimatorParamMaps=paramGrid_mlr, evaluator=cvEvaluator)\n",
    "cvModel_mlr = cv_mlr.fit(train)\n",
    "\n",
    "def printBestParam(cvModel):\n",
    "    \"\"\"Printea los parametros del mejor modelo\n",
    "\n",
    "    Args:\n",
    "        cvModel (model): modelo del crossValidator\n",
    "    \"\"\"\n",
    "    bestModel = cvModel.bestModel\n",
    "    bestParams = bestModel.extractParamMap()\n",
    "    for key in bestParams.keys():\n",
    "        print(key,': ', bestParams[key])\n",
    "\n",
    "printBestParam(cvModel_mlr)"
   ]
  },
  {
   "attachments": {},
   "cell_type": "markdown",
   "metadata": {},
   "source": [
    "#### Construye la regresion logistica con los mejores parametros y muestra los detalles del modelo\n",
    "\n",
    "**Utilizando la instancia *SUMMARY* del modelo de regresion logistica nos devuelve una serie de carateristicas que describen al modelo**"
   ]
  },
  {
   "cell_type": "code",
   "execution_count": 23,
   "metadata": {},
   "outputs": [
    {
     "name": "stdout",
     "output_type": "stream",
     "text": [
      "Coefficients: \n",
      "DenseMatrix([[-6.89277349e-02, -1.46699078e-02, -9.30925728e-02,\n",
      "               8.11894307e-04,  7.20185828e-02,  4.12859356e-02,\n",
      "               4.04780387e-02, -1.68786214e+00, -2.04709461e-01,\n",
      "              -4.42074944e-01],\n",
      "             [ 0.00000000e+00,  0.00000000e+00, -1.80095910e-02,\n",
      "              -1.21458067e-03,  0.00000000e+00, -1.77208703e-03,\n",
      "               0.00000000e+00,  0.00000000e+00,  0.00000000e+00,\n",
      "              -1.52973654e-01],\n",
      "             [ 6.15478547e-02,  1.08205759e-02,  1.29799116e-01,\n",
      "               0.00000000e+00, -7.54036426e-02, -3.19310272e-02,\n",
      "              -4.02600285e-02,  1.79311470e+00,  2.79490561e-02,\n",
      "               8.17224663e-01]])\n",
      "Intercept: [-0.02669056957111654,1.3978882434108273,-1.3711976738397105]\n",
      "Accuracy: 0.77140549273021\n",
      "FPR: 0.16177338029435925\n",
      "TPR: 0.7714054927302101\n",
      "F-measure: 0.7709023968484162\n",
      "Precision: 0.7753299909953563\n",
      "Recall: 0.7714054927302101\n"
     ]
    }
   ],
   "source": [
    "mlr_best = LogisticRegression(labelCol=\"volumen_ventas\", family=\"multinomial\", regParam=0.01, elasticNetParam=0.1)\n",
    "mlrModel_best = mlr_best.fit(train)\n",
    "\n",
    "print(\"Coefficients: \\n\" + str(mlrModel_best.coefficientMatrix))\n",
    "print(\"Intercept: \" + str(mlrModel_best.interceptVector))\n",
    "\n",
    "trainingSummary = mlrModel_best.summary\n",
    "    \n",
    "accuracy = trainingSummary.accuracy\n",
    "falsePositiveRate = trainingSummary.weightedFalsePositiveRate\n",
    "truePositiveRate = trainingSummary.weightedTruePositiveRate\n",
    "fMeasure = trainingSummary.weightedFMeasure()\n",
    "precision = trainingSummary.weightedPrecision\n",
    "recall = trainingSummary.weightedRecall\n",
    "print(\"Accuracy: %s\\nFPR: %s\\nTPR: %s\\nF-measure: %s\\nPrecision: %s\\nRecall: %s\"\n",
    "      % (accuracy, falsePositiveRate, truePositiveRate, fMeasure, precision, recall))"
   ]
  },
  {
   "attachments": {},
   "cell_type": "markdown",
   "metadata": {},
   "source": [
    "#### F1 y la matriz de confusión"
   ]
  },
  {
   "cell_type": "code",
   "execution_count": 21,
   "metadata": {},
   "outputs": [
    {
     "name": "stdout",
     "output_type": "stream",
     "text": [
      "Classification f1 score= 0.7395327129158156\n"
     ]
    },
    {
     "data": {
      "image/png": "[encoded data removed]",
      "text/plain": [
       "<Figure size 400x400 with 2 Axes>"
      ]
     },
     "metadata": {},
     "output_type": "display_data"
    }
   ],
   "source": [
    "predictions_mlr = mlrModel_best.transform(test)\n",
    "f1(predictions_mlr, 'volumen_ventas')\n",
    "calcular_matriz_confusion(predictions_mlr, 'volumen_ventas')"
   ]
  },
  {
   "attachments": {},
   "cell_type": "markdown",
   "metadata": {},
   "source": [
    "**Oberservación**\n",
    "\n",
    "No se observa ningun falso negativo o falso positivo entre los valores no consecutivos de la variable a predecir, es decir, entre los valores *bajo* y *alto*. Creemos que al estar ordenado por los numeros que estan asignados, el algoritmo parece que clasifica e identifican bien el rango de los valores que pueden tomar dadas unas variables dependientes, sin embargo no se ha encontrado una manera de establecer los umbrales, donde a partir de los cuales el algoritmo decide la predición sea uno u otro como se podía configurar el parametro *threshold* con el mismo algoritmo utilizado la distribuición *binomial*.   "
   ]
  },
  {
   "attachments": {},
   "cell_type": "markdown",
   "metadata": {},
   "source": [
    "## 2. Clasificacion mediante OneVsRest\n",
    "\n",
    "OneVsRest es un ejemplo de  aprendizaje automático para realizar una clasificación multiclase dado un clasificador base a partir del cual realiza una clasificación binaria de forma eficiente. También se conoce como \"One-vs-All\".\n",
    "\n",
    "OneVsRest se implementa como un estimador. Para el clasificador base, toma instancias del dicho clasificador y crea un problema de clasificación binaria para cada una de las k clases. El clasificador para la clase i se entrena para predecir si la etiqueta es i o no, distinguiendo la clase i del resto de clases.\n",
    "\n",
    "Las predicciones se realizan evaluando cada clasificador binario y el índice del clasificador más fiable se utiliza como etiqueta."
   ]
  },
  {
   "cell_type": "code",
   "execution_count": 24,
   "metadata": {},
   "outputs": [
    {
     "name": "stderr",
     "output_type": "stream",
     "text": [
      "                                                                                \r"
     ]
    },
    {
     "name": "stdout",
     "output_type": "stream",
     "text": [
      "Classification f1 score= 0.7312031466859084\n"
     ]
    },
    {
     "data": {
      "image/png": "[encoded data removed]",
      "text/plain": [
       "<Figure size 400x400 with 2 Axes>"
      ]
     },
     "metadata": {},
     "output_type": "display_data"
    }
   ],
   "source": [
    "from pyspark.ml.classification import LogisticRegression, OneVsRest\n",
    "from pyspark.ml.evaluation import MulticlassClassificationEvaluator\n",
    "lr = LogisticRegression(labelCol=\"volumen_ventas\", family=\"binomial\")\n",
    "\n",
    "# instantiate the One Vs Rest Classifier.\n",
    "ovr = OneVsRest(labelCol=\"volumen_ventas\", classifier=lr)\n",
    "\n",
    "# train the multiclass model.\n",
    "ovrModel = ovr.fit(train)\n",
    "\n",
    "# score the model on test data.\n",
    "predictions_ovr = ovrModel.transform(test)\n",
    "\n",
    "f1(predictions_ovr, \"volumen_ventas\")\n",
    "calcular_matriz_confusion(predictions_mlr, 'volumen_ventas')"
   ]
  },
  {
   "attachments": {},
   "cell_type": "markdown",
   "metadata": {},
   "source": [
    "**Obervación**\n",
    "\n",
    "Se obtiene una evaluacion de f1 ligeramente menor que la regresion multinomial pero la matriz de confusion es la misma, y tambien igualmente se observa que tampoco hay falsos positivos o negativos entre los valores no consecutivos(0.0, 2.0)."
   ]
  },
  {
   "attachments": {},
   "cell_type": "markdown",
   "metadata": {},
   "source": [
    "## 3. Clasificacion mediante Regresion Lineal\n",
    "\n",
    "Se utilizar el modelo GeneralizedLinearReggression configurado:\n",
    "* Distribucion binomial\n",
    "* Funcion de enlace `logit` y `probit` (La función de enlace proporciona la relación entre el predictor lineal y la media de la función de distribución.)\n",
    "\n",
    "#### Función logit y probit\n",
    "![Funcion logit](./images/Logit-vs-probit-models.png)\n"
   ]
  },
  {
   "attachments": {},
   "cell_type": "markdown",
   "metadata": {},
   "source": [
    "## 3. Clasificacion mediante Regresion lineal mediante un modelo acumulativo"
   ]
  },
  {
   "attachments": {},
   "cell_type": "markdown",
   "metadata": {},
   "source": [
    "#### Procesado de los datos\n",
    "\n",
    "<img src=\"./images/cumulative.png\" alt=\"cumulative.jpg\" width=\"800\"/>\n",
    "\n",
    "Siendo **n** el número de valores puede tomar la prediccion, vamos que crear **n-1** columnas nuevas a partir de las cuales realizaremos una regresión lineal con la distribución binomial. Es muy parecido al algoritmo de OneVsRest, la diferencia está que en lugar de comparar entre un valor y todo el resto de valores que puede tomar la *Y*, estamos dividiendo en subconjuntos consecutivos, es decir, clasificar entre {y1, ... yi} y {yi+1, ..., yn}. "
   ]
  },
  {
   "cell_type": "code",
   "execution_count": 15,
   "metadata": {},
   "outputs": [
    {
     "name": "stdout",
     "output_type": "stream",
     "text": [
      "+--------------+----------------+----------------+--------------------+\n",
      "|volumen_ventas|volumen_ventas_1|volumen_ventas_2|            features|\n",
      "+--------------+----------------+----------------+--------------------+\n",
      "|           2.0|             1.0|             1.0|[138.0,73.0,11.0,...|\n",
      "|           2.0|             1.0|             1.0|[111.0,48.0,16.0,...|\n",
      "|           2.0|             1.0|             1.0|[113.0,35.0,10.0,...|\n",
      "|           1.0|             1.0|             0.0|[117.0,100.0,4.0,...|\n",
      "|           0.0|             0.0|             0.0|[141.0,64.0,3.0,3...|\n",
      "+--------------+----------------+----------------+--------------------+\n",
      "only showing top 5 rows\n",
      "\n"
     ]
    }
   ],
   "source": [
    "# separar volumen_ventas en dos cojuntos {0}, {1,2}\n",
    "df_features_l = df_features.withColumn('volumen_ventas_1', when(df_features.volumen_ventas == 0.0, 0.0).otherwise(1.0))\n",
    "# separar volumen_ventas en dos cojuntos {0,1}, {2}\n",
    "df_features_l = df_features_l.withColumn('volumen_ventas_2', when(df_features_l.volumen_ventas <= 1.0, 0.0).otherwise(1.0))\n",
    "df_features_l = df_features_l.select(['volumen_ventas', 'volumen_ventas_1','volumen_ventas_2', 'features'])\n",
    "train_l, test_l = df_features_l.randomSplit([0.7, 0.3], seed = 1234)\n",
    "df_features_l.show(5)"
   ]
  },
  {
   "attachments": {},
   "cell_type": "markdown",
   "metadata": {},
   "source": [
    "#### Construye la regresion linear con los mejores parametros y muestra los detalles del modelo\n",
    "\n",
    "<img src=\"./images/Logit-vs-probit-models.png\" alt=\"probi_logit.jpg\" width=\"800\"/>\n",
    "\n",
    "Utilizaremos el algoritmo GeneralizedLinearRegression con la distribución binomial y las funciones de enlace *logit* y *probit*"
   ]
  },
  {
   "cell_type": "code",
   "execution_count": 16,
   "metadata": {},
   "outputs": [
    {
     "name": "stdout",
     "output_type": "stream",
     "text": [
      "GeneralizedLinearRegression_6170e167feb9__aggregationDepth :  2\n",
      "GeneralizedLinearRegression_6170e167feb9__family :  binomial\n",
      "GeneralizedLinearRegression_6170e167feb9__featuresCol :  features\n",
      "GeneralizedLinearRegression_6170e167feb9__fitIntercept :  True\n",
      "GeneralizedLinearRegression_6170e167feb9__labelCol :  volumen_ventas_1\n",
      "GeneralizedLinearRegression_6170e167feb9__maxIter :  25\n",
      "GeneralizedLinearRegression_6170e167feb9__predictionCol :  prediction_1\n",
      "GeneralizedLinearRegression_6170e167feb9__regParam :  0.01\n",
      "GeneralizedLinearRegression_6170e167feb9__solver :  irls\n",
      "GeneralizedLinearRegression_6170e167feb9__tol :  1e-06\n",
      "GeneralizedLinearRegression_6170e167feb9__variancePower :  0.0\n",
      "GeneralizedLinearRegression_6170e167feb9__link :  logit\n",
      "GeneralizedLinearRegression_566179413d88__aggregationDepth :  2\n",
      "GeneralizedLinearRegression_566179413d88__family :  binomial\n",
      "GeneralizedLinearRegression_566179413d88__featuresCol :  features\n",
      "GeneralizedLinearRegression_566179413d88__fitIntercept :  True\n",
      "GeneralizedLinearRegression_566179413d88__labelCol :  volumen_ventas_2\n",
      "GeneralizedLinearRegression_566179413d88__maxIter :  25\n",
      "GeneralizedLinearRegression_566179413d88__predictionCol :  prediction_2\n",
      "GeneralizedLinearRegression_566179413d88__regParam :  0.01\n",
      "GeneralizedLinearRegression_566179413d88__solver :  irls\n",
      "GeneralizedLinearRegression_566179413d88__tol :  1e-06\n",
      "GeneralizedLinearRegression_566179413d88__variancePower :  0.0\n",
      "GeneralizedLinearRegression_566179413d88__link :  logit\n"
     ]
    }
   ],
   "source": [
    "from pyspark.ml.regression import GeneralizedLinearRegression\n",
    "\n",
    "glr = GeneralizedLinearRegression(labelCol=\"volumen_ventas_1\")\n",
    "\n",
    "paramGrid_glr = ParamGridBuilder().baseOn([glr.labelCol, 'volumen_ventas_1'])\\\n",
    "             .baseOn([glr.predictionCol, 'prediction_1'])\\\n",
    "             .baseOn([glr.family, 'binomial'])  \\\n",
    "             .addGrid(glr.link, [\"logit\", \"probit\"]) \\\n",
    "             .addGrid(glr.regParam, [0.01, 0.1, 0.5, 1.0, 2.0]) \\\n",
    "             .build()\n",
    "\n",
    "cvEvaluator= MulticlassClassificationEvaluator(metricName=\"f1\", labelCol='volumen_ventas_1', predictionCol=\"prediction_1\")\n",
    "\n",
    "cv_glr = CrossValidator(estimator=glr, estimatorParamMaps=paramGrid_glr, evaluator=cvEvaluator)\n",
    "cvModel_glr = cv_glr.fit(train_l)\n",
    "\n",
    "printBestParam(cvModel_glr)\n",
    "\n",
    "glr_2 = GeneralizedLinearRegression(labelCol=\"volumen_ventas_2\")\n",
    "\n",
    "paramGrid_glr_2 = ParamGridBuilder().baseOn([glr_2.labelCol, 'volumen_ventas_2'])\\\n",
    "            .baseOn([glr_2.predictionCol, 'prediction_2'])\\\n",
    "             .baseOn([glr_2.family, 'binomial'])  \\\n",
    "             .addGrid(glr_2.link, [\"logit\", \"probit\"]) \\\n",
    "             .addGrid(glr_2.regParam, [0.01, 0.1, 0.5, 1.0, 2.0]) \\\n",
    "             .build()\n",
    "\n",
    "cvEvaluator= MulticlassClassificationEvaluator(metricName=\"f1\", labelCol='volumen_ventas_2', predictionCol=\"prediction_2\")\n",
    "\n",
    "cv_glr_2 = CrossValidator(estimator=glr_2, estimatorParamMaps=paramGrid_glr_2, evaluator=cvEvaluator)\n",
    "cvModel_glr_2 = cv_glr_2.fit(train_l)\n",
    "\n",
    "printBestParam(cvModel_glr_2)"
   ]
  },
  {
   "attachments": {},
   "cell_type": "markdown",
   "metadata": {},
   "source": [
    "#### Combinar ambas predicciones haciendo diferencia de conjuntos para poder separar las predicciones en la misma cantidad de variable ordinal"
   ]
  },
  {
   "attachments": {},
   "cell_type": "markdown",
   "metadata": {},
   "source": [
    "<img src=\"./images/Diferencia01m.jpg\" alt=\"diferencia.jpg\" width=\"400\"/>\n",
    "\n",
    "Se permite establecer los umbrales cuando se haga la diferencia de conjuntos en lugar de 0.5 que vienen por defecto en las regresiones binomiales, por lo que como se ve a continuacion mejorando los resultados obtenidos en la predicción"
   ]
  },
  {
   "cell_type": "code",
   "execution_count": 17,
   "metadata": {},
   "outputs": [
    {
     "name": "stdout",
     "output_type": "stream",
     "text": [
      "+--------------+----------------+--------------------------------------------------+--------------------+---------------------+\n",
      "|volumen_ventas|volumen_ventas_1|features                                          |prediction_1        |prediction_2         |\n",
      "+--------------+----------------+--------------------------------------------------+--------------------+---------------------+\n",
      "|0.0           |0.0             |[85.0,79.0,6.0,325.0,95.0,69.0,13.0,1.0,1.0,1.0]  |0.3916432731528865  |0.013589437145835364 |\n",
      "|0.0           |0.0             |[93.0,91.0,0.0,22.0,117.0,75.0,11.0,0.0,1.0,0.0]  |0.006844665977513613|4.511825124419024E-6 |\n",
      "|0.0           |0.0             |[97.0,46.0,11.0,267.0,107.0,80.0,15.0,1.0,1.0,1.0]|0.2306836134609754  |0.007237587686881793 |\n",
      "|0.0           |0.0             |[106.0,43.0,0.0,480.0,111.0,70.0,14.0,1.0,0.0,0.0]|0.0718341065545322  |5.177128219937343E-4 |\n",
      "|0.0           |0.0             |[106.0,63.0,0.0,485.0,105.0,64.0,14.0,1.0,0.0,0.0]|0.27017531146714946 |0.0024251143019651976|\n",
      "+--------------+----------------+--------------------------------------------------+--------------------+---------------------+\n",
      "only showing top 5 rows\n",
      "\n",
      "+--------------+----------------+--------------------------------------------------+--------------------+---------------------+----------+\n",
      "|volumen_ventas|volumen_ventas_1|features                                          |prediction_1        |prediction_2         |prediction|\n",
      "+--------------+----------------+--------------------------------------------------+--------------------+---------------------+----------+\n",
      "|0.0           |0.0             |[85.0,79.0,6.0,325.0,95.0,69.0,13.0,1.0,1.0,1.0]  |0.3916432731528865  |0.013589437145835364 |0.0       |\n",
      "|0.0           |0.0             |[93.0,91.0,0.0,22.0,117.0,75.0,11.0,0.0,1.0,0.0]  |0.006844665977513613|4.511825124419024E-6 |0.0       |\n",
      "|0.0           |0.0             |[97.0,46.0,11.0,267.0,107.0,80.0,15.0,1.0,1.0,1.0]|0.2306836134609754  |0.007237587686881793 |0.0       |\n",
      "|0.0           |0.0             |[106.0,43.0,0.0,480.0,111.0,70.0,14.0,1.0,0.0,0.0]|0.0718341065545322  |5.177128219937343E-4 |0.0       |\n",
      "|0.0           |0.0             |[106.0,63.0,0.0,485.0,105.0,64.0,14.0,1.0,0.0,0.0]|0.27017531146714946 |0.0024251143019651976|0.0       |\n",
      "+--------------+----------------+--------------------------------------------------+--------------------+---------------------+----------+\n",
      "only showing top 5 rows\n",
      "\n"
     ]
    }
   ],
   "source": [
    "predictions_1 = cvModel_glr.transform(test_l)\n",
    "test_ll = predictions_1.select(['volumen_ventas', 'volumen_ventas_1', 'features', 'prediction_1'])\n",
    "predictions_2 = cvModel_glr_2.transform(test_ll)\n",
    "predictions_2.show(5, False)\n",
    "df_predictions = predictions_2.withColumn('prediction', when(predictions_2.prediction_1 < 0.45, 0.0).when(predictions_2.prediction_2 >= 0.5, 2.0).otherwise(1.0))\n",
    "df_predictions.show(5, False)"
   ]
  },
  {
   "attachments": {},
   "cell_type": "markdown",
   "metadata": {},
   "source": [
    "#### Mostrar las metricas obtenidas"
   ]
  },
  {
   "cell_type": "code",
   "execution_count": 25,
   "metadata": {},
   "outputs": [
    {
     "name": "stdout",
     "output_type": "stream",
     "text": [
      "Classification f1 score= 0.7587225492309577\n"
     ]
    },
    {
     "data": {
      "image/png": "[encoded data removed]",
      "text/plain": [
       "<Figure size 400x400 with 2 Axes>"
      ]
     },
     "metadata": {},
     "output_type": "display_data"
    }
   ],
   "source": [
    "f1(df_predictions, \"volumen_ventas\")\n",
    "calcular_matriz_confusion(df_predictions, \"volumen_ventas\")"
   ]
  },
  {
   "attachments": {},
   "cell_type": "markdown",
   "metadata": {},
   "source": [
    "## Conclusion\n",
    "\n",
    "* Regresión lineal aplicando un modelo acumulativo aumenta considerablemente la puntuacion de f1 frente los algoritmos de clasificación\n",
    "* Se permite establecer diferentes umbrales entre los valores consecutivos para obtener una clasifiación mejor"
   ]
  },
  {
   "cell_type": "markdown",
   "metadata": {},
   "source": []
  }
 ],
 "metadata": {
  "hide_input": false,
  "kernelspec": {
   "display_name": "TDM venv Kernel",
   "language": "python",
   "name": "tdmenv"
  },
  "language_info": {
   "codemirror_mode": {
    "name": "ipython",
    "version": 3
   },
   "file_extension": ".py",
   "mimetype": "text/x-python",
   "name": "python",
   "nbconvert_exporter": "python",
   "pygments_lexer": "ipython3",
   "version": "3.10.6"
  },
  "nbTranslate": {
   "displayLangs": [
    "en",
    "es"
   ],
   "hotkey": "alt-t",
   "langInMainMenu": true,
   "sourceLang": "es",
   "targetLang": "en",
   "useGoogleTranslate": true
  },
  "toc": {
   "base_numbering": 1,
   "nav_menu": {},
   "number_sections": true,
   "sideBar": true,
   "skip_h1_title": false,
   "title_cell": "Table of Contents",
   "title_sidebar": "Contents",
   "toc_cell": false,
   "toc_position": {
    "height": "calc(100% - 180px)",
    "left": "10px",
    "top": "150px",
    "width": "332.8px"
   },
   "toc_section_display": true,
   "toc_window_display": true
  },
  "vscode": {
   "interpreter": {
    "hash": "916dbcbb3f70747c44a77c7bcd40155683ae19c65e1c03b4aa3499c5328201f1"
   }
  }
 },
 "nbformat": 4,
 "nbformat_minor": 2
}
